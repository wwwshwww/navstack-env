{
 "cells": [
  {
   "cell_type": "code",
   "execution_count": 1,
   "metadata": {},
   "outputs": [],
   "source": [
    "import numpy as np\n",
    "import gym\n",
    "from hypo_gym.base import ChestSearchEnv\n",
    "import matplotlib.pyplot as plt"
   ]
  },
  {
   "cell_type": "code",
   "execution_count": 2,
   "metadata": {},
   "outputs": [],
   "source": [
    "env = ChestSearchEnv(path_turnable=np.pi/8, avoidance_size=3, move_limit=-1, path_planning_count=10, path_exploration_count=4000)"
   ]
  },
  {
   "cell_type": "code",
   "execution_count": 3,
   "metadata": {},
   "outputs": [],
   "source": [
    "obs = env.reset()"
   ]
  },
  {
   "cell_type": "code",
   "execution_count": 4,
   "metadata": {},
   "outputs": [
    {
     "data": {
      "text/plain": [
       "<matplotlib.image.AxesImage at 0x7fde32546dc0>"
      ]
     },
     "execution_count": 4,
     "metadata": {},
     "output_type": "execute_result"
    },
    {
     "data": {
      "image/png": "[encoded data removed]",
      "text/plain": [
       "<Figure size 432x288 with 1 Axes>"
      ]
     },
     "metadata": {
      "needs_background": "light"
     },
     "output_type": "display_data"
    }
   ],
   "source": [
    "obs[obs==-1] = 50\n",
    "plt.imshow(obs, cmap='gray')"
   ]
  },
  {
   "cell_type": "code",
   "execution_count": 5,
   "metadata": {},
   "outputs": [
    {
     "name": "stdout",
     "output_type": "stream",
     "text": [
      "==========\n",
      "action: [-0.2686544   0.84616977 -0.25735906]\n",
      "now: (-3.473011717643704, -0.2935171427530223, -1.6906154895851924), \n",
      "to: (-4.116326472851452, -0.050302319461893064, -2.094874152032568)\n",
      "Navigation started: (93, 125, -1.6906154895851924) to (87, 127, -2.094874152032568)\n",
      "plan: 1\n",
      "reached!\n",
      "Time: 0.24254631996154785\n",
      "==========\n",
      "action: [ 0.8123173   0.8191984  -0.36852345]\n",
      "now: (-4.1000000000000005, -0.1, -2.094874152032568), \n",
      "to: (-2.6632769099245968, -1.603423235329927, -2.673749431597227)\n",
      "Navigation started: (87, 127, -2.094874152032568) to (101, 112, -2.673749431597227)\n",
      "plan: 1\n",
      "reached!\n",
      "Time: 0.16585707664489746\n",
      "==========\n",
      "action: [ 0.72892326 -0.7900221   0.22554177]\n",
      "now: (-2.7, -1.6, -2.673749431597227), \n",
      "to: (-4.035592402380393, -0.2968072053929709, -2.3194692470226355)\n",
      "Navigation started: (101, 112, -2.673749431597227) to (88, 125, -2.3194692470226355)\n",
      "plan: 1\n",
      "reached!\n",
      "Time: 0.026792526245117188\n",
      "==========\n",
      "action: [-0.8492871  0.5393555 -0.7669045]\n",
      "now: (-4.0, -0.30000000000000004, -2.3194692470226355), \n",
      "to: (-4.213906910839487, 1.8636267188076954, 2.759065330487277)\n",
      "Navigation started: (88, 125, -2.3194692470226355) to (86, 147, 2.759065330487277)\n",
      "plan: 1\n",
      "path not found...\n",
      "Time: 0.001203298568725586\n",
      "==========\n",
      "action: [-0.08021984  0.29687446 -0.7694971 ]\n",
      "now: (-4.0, -0.30000000000000004, -2.3194692470226355), \n",
      "to: (-3.9427844420330356, -0.10276851613079524, 2.7549928474348686)\n",
      "Navigation started: (88, 125, -2.3194692470226355) to (89, 127, 2.7549928474348686)\n",
      "plan: 1\n",
      "reached!\n",
      "Time: 0.0332331657409668\n",
      "==========\n",
      "action: [ 0.28886613 -0.92990535  0.909338  ]\n",
      "now: (-3.9000000000000004, -0.1, 2.7549928474348686), \n",
      "to: (-3.698127709454748, 0.6114097510055161, -2.0998076735563993)\n",
      "Navigation started: (89, 127, 2.7549928474348686) to (91, 134, -2.0998076735563993)\n",
      "plan: 1\n",
      "reached!\n",
      "Time: 0.028151750564575195\n",
      "==========\n",
      "action: [-0.13267332  0.4936901   0.8653021 ]\n",
      "now: (-3.7, 0.6000000000000001, -2.0998076735563993), \n",
      "to: (-3.7828687372954084, 0.9293791436488289, -0.7405943354936859)\n",
      "Navigation started: (91, 134, -2.0998076735563993) to (90, 137, -0.7405943354936859)\n",
      "plan: 1\n",
      "reached!\n",
      "Time: 0.1787881851196289\n",
      "==========\n",
      "action: [0.03379403 0.08467077 0.9825193 ]\n",
      "now: (-3.8000000000000003, 0.9, -0.7405943354936859), \n",
      "to: (-3.7289709750449322, 0.8506104462016185, 0.8027434168670835)\n",
      "Navigation started: (90, 137, -0.7405943354936859) to (91, 137, 0.8027434168670835)\n",
      "plan: 1\n",
      "reached!\n",
      "Time: 0.06556844711303711\n",
      "==========\n",
      "action: [ 0.30654845 -0.5849524  -0.3443679 ]\n",
      "now: (-3.7, 0.9, 0.8027434168670835), \n",
      "to: (-2.9205188280975447, 0.8090952466951042, 0.2618115977541393)\n",
      "Navigation started: (91, 137, 0.8027434168670835) to (99, 136, 0.2618115977541393)\n",
      "plan: 1\n",
      "reached!\n",
      "Time: 0.01224827766418457\n",
      "==========\n",
      "action: [ 0.27286023 -0.12595594 -0.20099191]\n",
      "now: (-2.9000000000000004, 0.8, 0.2618115977541393), \n",
      "to: (-2.2029061335115534, 0.8446473518654372, -0.05390576196400998)\n",
      "Navigation started: (99, 136, 0.2618115977541393) to (106, 136, -0.05390576196400998)\n",
      "plan: 1\n",
      "path not found...\n",
      "Time: 0.0013539791107177734\n"
     ]
    }
   ],
   "source": [
    "for i in range(10):\n",
    "    action = env.action_space.sample()\n",
    "    print(f'==========\\naction: {action}')\n",
    "    obs, reward, done, info = env.step_with_debug(action, 'out')"
   ]
  },
  {
   "cell_type": "code",
   "execution_count": null,
   "metadata": {},
   "outputs": [],
   "source": []
  },
  {
   "cell_type": "code",
   "execution_count": null,
   "metadata": {},
   "outputs": [],
   "source": []
  }
 ],
 "metadata": {
  "interpreter": {
   "hash": "849704fb629ca81a4c529a030637a112caa6c5fe2c70684dc1034a14580aadb2"
  },
  "kernelspec": {
   "display_name": "Python 3.8.10 64-bit ('.venv': poetry)",
   "language": "python",
   "name": "python3"
  },
  "language_info": {
   "codemirror_mode": {
    "name": "ipython",
    "version": 3
   },
   "file_extension": ".py",
   "mimetype": "text/x-python",
   "name": "python",
   "nbconvert_exporter": "python",
   "pygments_lexer": "ipython3",
   "version": "3.8.10"
  },
  "orig_nbformat": 4
 },
 "nbformat": 4,
 "nbformat_minor": 2
}
