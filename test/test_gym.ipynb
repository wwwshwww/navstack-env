{
 "cells": [
  {
   "cell_type": "code",
   "execution_count": 1,
   "metadata": {},
   "outputs": [],
   "source": [
    "import numpy as np\n",
    "import gym\n",
    "from hypo_gym.base import ChestSearchEnv\n",
    "import matplotlib.pyplot as plt"
   ]
  },
  {
   "cell_type": "code",
   "execution_count": 2,
   "metadata": {},
   "outputs": [
    {
     "ename": "TypeError",
     "evalue": "__init__() got an unexpected keyword argument 'allowable_angle'",
     "output_type": "error",
     "traceback": [
      "\u001b[0;31m---------------------------------------------------------------------------\u001b[0m",
      "\u001b[0;31mTypeError\u001b[0m                                 Traceback (most recent call last)",
      "\u001b[0;32m/tmp/ipykernel_628774/1234706754.py\u001b[0m in \u001b[0;36m<module>\u001b[0;34m\u001b[0m\n\u001b[0;32m----> 1\u001b[0;31m \u001b[0menv\u001b[0m \u001b[0;34m=\u001b[0m \u001b[0mChestSearchEnv\u001b[0m\u001b[0;34m(\u001b[0m\u001b[0mallowable_angle\u001b[0m \u001b[0;34m=\u001b[0m \u001b[0mnp\u001b[0m\u001b[0;34m.\u001b[0m\u001b[0mpi\u001b[0m\u001b[0;34m/\u001b[0m\u001b[0;36m8\u001b[0m\u001b[0;34m,\u001b[0m \u001b[0mavoidance_size\u001b[0m\u001b[0;34m=\u001b[0m\u001b[0;36m3\u001b[0m\u001b[0;34m,\u001b[0m \u001b[0mmove_limit\u001b[0m\u001b[0;34m=\u001b[0m\u001b[0;34m-\u001b[0m\u001b[0;36m1\u001b[0m\u001b[0;34m,\u001b[0m \u001b[0mpath_planning_count\u001b[0m\u001b[0;34m=\u001b[0m\u001b[0;36m10\u001b[0m\u001b[0;34m,\u001b[0m \u001b[0mpath_exploration_count\u001b[0m\u001b[0;34m=\u001b[0m\u001b[0;36m4000\u001b[0m\u001b[0;34m)\u001b[0m\u001b[0;34m\u001b[0m\u001b[0;34m\u001b[0m\u001b[0m\n\u001b[0m",
      "\u001b[0;31mTypeError\u001b[0m: __init__() got an unexpected keyword argument 'allowable_angle'"
     ]
    }
   ],
   "source": [
    "env = ChestSearchEnv(path_turnable=np.pi/8, avoidance_size=3, move_limit=-1, path_planning_count=10, path_exploration_count=4000)"
   ]
  },
  {
   "cell_type": "code",
   "execution_count": null,
   "metadata": {},
   "outputs": [],
   "source": [
    "obs = env.reset()"
   ]
  },
  {
   "cell_type": "code",
   "execution_count": null,
   "metadata": {},
   "outputs": [
    {
     "data": {
      "text/plain": [
       "<matplotlib.image.AxesImage at 0x7fc69dccfca0>"
      ]
     },
     "execution_count": 4,
     "metadata": {},
     "output_type": "execute_result"
    },
    {
     "data": {
      "image/png": "[encoded data removed]",
      "text/plain": [
       "<Figure size 432x288 with 1 Axes>"
      ]
     },
     "metadata": {
      "needs_background": "light"
     },
     "output_type": "display_data"
    }
   ],
   "source": [
    "obs[obs==-1] = 50\n",
    "plt.imshow(obs, cmap='gray')"
   ]
  },
  {
   "cell_type": "code",
   "execution_count": null,
   "metadata": {},
   "outputs": [
    {
     "name": "stdout",
     "output_type": "stream",
     "text": [
      "==========\n",
      "action: [-0.28042823  0.8726334  -0.72015315]\n",
      "hoaaaaa\n",
      "now: (-0.42856371552913775, -2.613377634894359, 0.9851889000989275), \n",
      "to: (0.07892535143627699, -3.121147171662896, -0.14602502727316224)\n",
      "Navigation started: (124, 102, 0.9851889000989275) to (129, 97, -0.14602502727316224)\n",
      "Time: 0.09093570709228516\n",
      "==========\n",
      "action: [-0.29763448  0.8407446   0.1029975 ]\n",
      "hoaaaaa\n",
      "now: (0.1, -3.1, -0.14602502727316224), \n",
      "to: (-0.19403402234762748, -3.8029246558191945, 0.015763062250168325)\n",
      "Navigation started: (129, 97, -0.14602502727316224) to (126, 90, 0.015763062250168325)\n",
      "Time: 0.06316804885864258\n",
      "==========\n",
      "action: [ 0.04601593  0.00477939 -0.855939  ]\n",
      "hoaaaaa\n",
      "now: (-0.2, -3.8000000000000003, 0.015763062250168325), \n",
      "to: (-0.08223112428668343, -3.7972589636839396, -1.328742729424203)\n",
      "Navigation started: (126, 90, 0.015763062250168325) to (127, 90, -1.328742729424203)\n",
      "Time: 0.10613298416137695\n",
      "==========\n",
      "action: [ 0.38875276  0.59772575 -0.8110076 ]\n",
      "hoaaaaa\n",
      "now: (-0.1, -3.8000000000000003, -1.328742729424203), \n",
      "to: (0.8205375688853567, -4.178216446050001, -2.6026705182014602)\n",
      "Navigation started: (127, 90, -1.328742729424203) to (136, 86, -2.6026705182014602)\n",
      "Time: 0.012299776077270508\n",
      "==========\n",
      "action: [ 0.4808144  -0.9757855  -0.20335163]\n",
      "hoaaaaa\n",
      "now: (-0.1, -3.8000000000000003, -2.6026705182014602), \n",
      "to: (-0.771419437341771, -2.7683636925790607, -2.9220945144187547)\n",
      "Navigation started: (127, 90, -2.6026705182014602) to (120, 100, -2.9220945144187547)\n",
      "Time: 0.025092124938964844\n",
      "==========\n",
      "action: [ 0.78853923 -0.15392303 -0.01499536]\n",
      "hoaaaaa\n",
      "now: (-0.8, -2.8000000000000003, -2.9220945144187547), \n",
      "to: (-2.8181592598940197, -2.7550207045573822, -2.9456491661474025)\n",
      "Navigation started: (120, 100, -2.9220945144187547) to (100, 100, -2.9456491661474025)\n",
      "Time: 0.019861221313476562\n",
      "==========\n",
      "action: [-0.7980676  -0.79063576  0.07066606]\n",
      "hoaaaaa\n",
      "now: (-2.8000000000000003, -2.8000000000000003, -2.9456491661474025), \n",
      "to: (-1.7763274802931939, -4.568095209231957, -2.834647178903368)\n",
      "Navigation started: (100, 100, -2.9456491661474025) to (110, 82, -2.834647178903368)\n",
      "Time: 0.010570764541625977\n",
      "==========\n",
      "action: [0.11285069 0.35497087 0.2803424 ]\n",
      "hoaaaaa\n",
      "now: (-2.8000000000000003, -2.8000000000000003, -2.834647178903368), \n",
      "to: (-2.987493468982632, -3.0197910738633125, -2.3942863666222554)\n",
      "Navigation started: (100, 100, -2.834647178903368) to (98, 98, -2.3942863666222554)\n",
      "Time: 0.0008575916290283203\n",
      "==========\n",
      "action: [ 0.04798382 -0.5795715  -0.83615696]\n",
      "hoaaaaa\n",
      "now: (-2.8000000000000003, -2.8000000000000003, -2.3942863666222554), \n",
      "to: (-2.921208689825496, -2.780055862028021, 2.5754666524076786)\n",
      "Navigation started: (100, 100, -2.3942863666222554) to (99, 100, 2.5754666524076786)\n",
      "Time: 0.0008873939514160156\n",
      "==========\n",
      "action: [ 0.8004042  0.7922996 -0.6238834]\n",
      "hoaaaaa\n",
      "now: (-2.8000000000000003, -2.8000000000000003, 2.5754666524076786), \n",
      "to: (-4.395313203443517, -4.0858923374773255, 1.5954728582011182)\n",
      "Navigation started: (100, 100, 2.5754666524076786) to (84, 87, 1.5954728582011182)\n",
      "Time: 9.83495044708252\n"
     ]
    }
   ],
   "source": [
    "for i in range(10):\n",
    "    action = env.action_space.sample()\n",
    "    print(f'==========\\naction: {action}')\n",
    "    obs, reward, done, info = env.step_with_debug(action)"
   ]
  },
  {
   "cell_type": "code",
   "execution_count": null,
   "metadata": {},
   "outputs": [
    {
     "data": {
      "text/plain": [
       "<matplotlib.image.AxesImage at 0x7fc69c303af0>"
      ]
     },
     "execution_count": 6,
     "metadata": {},
     "output_type": "execute_result"
    },
    {
     "data": {
      "image/png": "[encoded data removed]",
      "text/plain": [
       "<Figure size 432x288 with 1 Axes>"
      ]
     },
     "metadata": {
      "needs_background": "light"
     },
     "output_type": "display_data"
    }
   ],
   "source": [
    "obs[obs==-1] = 50\n",
    "plt.imshow(obs, cmap='gray')"
   ]
  },
  {
   "cell_type": "code",
   "execution_count": null,
   "metadata": {},
   "outputs": [],
   "source": []
  }
 ],
 "metadata": {
  "interpreter": {
   "hash": "849704fb629ca81a4c529a030637a112caa6c5fe2c70684dc1034a14580aadb2"
  },
  "kernelspec": {
   "display_name": "Python 3.8.10 64-bit ('.venv': poetry)",
   "language": "python",
   "name": "python3"
  },
  "language_info": {
   "codemirror_mode": {
    "name": "ipython",
    "version": 3
   },
   "file_extension": ".py",
   "mimetype": "text/x-python",
   "name": "python",
   "nbconvert_exporter": "python",
   "pygments_lexer": "ipython3",
   "version": "3.8.10"
  },
  "orig_nbformat": 4
 },
 "nbformat": 4,
 "nbformat_minor": 2
}
